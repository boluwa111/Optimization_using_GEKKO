{
 "cells": [
  {
   "cell_type": "markdown",
   "id": "d5e60357",
   "metadata": {},
   "source": [
    "# This is a tutorial on Optimization using Gekko"
   ]
  },
  {
   "cell_type": "markdown",
   "id": "923ef7c2",
   "metadata": {},
   "source": [
    "Maximise $f(x,y)=xy$ <br>Subjected to constraint $2x+2y=20$"
   ]
  },
  {
   "cell_type": "code",
   "execution_count": 2,
   "id": "b10f231e",
   "metadata": {},
   "outputs": [
    {
     "name": "stdout",
     "output_type": "stream",
     "text": [
      "[4.9999999873] [5.0]\n"
     ]
    }
   ],
   "source": [
    "#Importing the Library\n",
    "from gekko import GEKKO\n",
    "\n"
   ]
  },
  {
   "cell_type": "code",
   "execution_count": null,
   "id": "ba42504d",
   "metadata": {},
   "outputs": [],
   "source": [
    "#Instantiating \n",
    "m=GEKKO(remote=False)  #if remote=True, operation is carried out on the online server\n",
    "\n"
   ]
  },
  {
   "cell_type": "code",
   "execution_count": null,
   "id": "1e337485",
   "metadata": {},
   "outputs": [],
   "source": [
    "# declaring variables and setting initial values, lb stands for lower bound, ub stands for upper bound\n",
    "x=m.Var(value=1,lb=1,ub=5)  \n",
    "y=m.Var(value=3,lb=1,ub=5)\n",
    "\n",
    "\n"
   ]
  },
  {
   "cell_type": "code",
   "execution_count": null,
   "id": "fc8d10df",
   "metadata": {},
   "outputs": [],
   "source": [
    "#inserting the constraint and the objective function\n",
    "m.Equation(2*x+2*y==20)\n",
    "m.Obj(x*y)\n",
    "\n"
   ]
  },
  {
   "cell_type": "code",
   "execution_count": null,
   "id": "867f8c0f",
   "metadata": {},
   "outputs": [],
   "source": [
    "#calling the solver\n",
    "m.solve(disp=False)\n",
    "\n"
   ]
  },
  {
   "cell_type": "code",
   "execution_count": 3,
   "id": "f17187ed",
   "metadata": {},
   "outputs": [
    {
     "name": "stdout",
     "output_type": "stream",
     "text": [
      "[4.9999999873] [5.0]\n"
     ]
    }
   ],
   "source": [
    "#print optimal values\n",
    "print(x.value,y.value)"
   ]
  }
 ],
 "metadata": {
  "kernelspec": {
   "display_name": "Python 3",
   "language": "python",
   "name": "python3"
  },
  "language_info": {
   "codemirror_mode": {
    "name": "ipython",
    "version": 3
   },
   "file_extension": ".py",
   "mimetype": "text/x-python",
   "name": "python",
   "nbconvert_exporter": "python",
   "pygments_lexer": "ipython3",
   "version": "3.8.8"
  }
 },
 "nbformat": 4,
 "nbformat_minor": 5
}
