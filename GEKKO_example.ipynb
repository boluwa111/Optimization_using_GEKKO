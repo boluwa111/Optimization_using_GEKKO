{
 "cells": [
  {
   "cell_type": "markdown",
   "id": "9b53176d",
   "metadata": {},
   "source": [
    "# This is a tutorial on Optimization using Gekko"
   ]
  },
  {
   "cell_type": "markdown",
   "id": "e049ed7b",
   "metadata": {},
   "source": [
    "Maximise $f(x,y)=xy$ <br>Subjected to constraint $2x+2y=20$"
   ]
  },
  {
   "cell_type": "code",
   "execution_count": 1,
   "id": "120cad31",
   "metadata": {},
   "outputs": [],
   "source": [
    "#Importing the Library\n",
    "from gekko import GEKKO\n",
    "\n"
   ]
  },
  {
   "cell_type": "code",
   "execution_count": 2,
   "id": "32e2334a",
   "metadata": {},
   "outputs": [],
   "source": [
    "#Instantiating \n",
    "m=GEKKO(remote=False)  #if remote=True, operation is carried out on the online server\n",
    "\n"
   ]
  },
  {
   "cell_type": "code",
   "execution_count": 3,
   "id": "24276372",
   "metadata": {},
   "outputs": [],
   "source": [
    "# declaring variables and setting initial values, lb stands for lower bound, ub stands for upper bound\n",
    "x=m.Var(value=1,lb=1,ub=5)  \n",
    "y=m.Var(value=3,lb=1,ub=5)\n",
    "\n",
    "\n"
   ]
  },
  {
   "cell_type": "code",
   "execution_count": 4,
   "id": "fbb979e9",
   "metadata": {},
   "outputs": [],
   "source": [
    "#inserting the constraint and the objective function\n",
    "m.Equation(2*x+2*y==20)\n",
    "m.Obj(x*y)\n",
    "\n"
   ]
  },
  {
   "cell_type": "code",
   "execution_count": 5,
   "id": "1ae9537f",
   "metadata": {},
   "outputs": [],
   "source": [
    "#calling the solver\n",
    "m.solve(disp=False)\n",
    "\n"
   ]
  },
  {
   "cell_type": "code",
   "execution_count": 6,
   "id": "75f593e2",
   "metadata": {},
   "outputs": [
    {
     "name": "stdout",
     "output_type": "stream",
     "text": [
      "[4.9999999873] [5.0]\n"
     ]
    }
   ],
   "source": [
    "#print optimal values\n",
    "print(x.value,y.value)"
   ]
  }
 ],
 "metadata": {
  "kernelspec": {
   "display_name": "Python 3",
   "language": "python",
   "name": "python3"
  },
  "language_info": {
   "codemirror_mode": {
    "name": "ipython",
    "version": 3
   },
   "file_extension": ".py",
   "mimetype": "text/x-python",
   "name": "python",
   "nbconvert_exporter": "python",
   "pygments_lexer": "ipython3",
   "version": "3.8.8"
  }
 },
 "nbformat": 4,
 "nbformat_minor": 5
}
