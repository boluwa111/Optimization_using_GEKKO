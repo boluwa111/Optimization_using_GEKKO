{
 "cells": [
  {
   "cell_type": "markdown",
   "id": "33b7276d-0dcb-4bcf-af2d-bb9b1f48272c",
   "metadata": {},
   "source": [
    "## This is an example on using Gekko to solve a dynamic optimization problem\n",
    "### Gotten from http://apmonitor.com/do/index.php/Main/DynamicOptimizationBenchmarks "
   ]
  },
  {
   "cell_type": "markdown",
   "id": "e774ac2c-9cdb-4762-adc4-eeb3ceab85b5",
   "metadata": {},
   "source": []
  },
  {
   "cell_type": "markdown",
   "id": "7b42f3a3-31b2-4216-b4f9-e15cd135c550",
   "metadata": {},
   "source": [
    "$\\textrm{QUESTION}$ <br>\n",
    "$\\textrm{Min}_{u(t)}  x_{2}(t_{f})$ <br>\n",
    "$\\textrm{Subjected to}:$ <br>\n",
    "$\\frac{dx_{1}}{dt}=u$ <br>\n",
    "$\\frac{dx_{2}}{dt}=u^{2}+x_{1}^{2}$ <br>\n",
    "\n",
    "\n",
    "$x(0)=\\begin{bmatrix} 1 & 0\\end{bmatrix}$ <br>\n",
    "$t_{f}=1$\n"
   ]
  },
  {
   "cell_type": "code",
   "execution_count": 1,
   "id": "75e0d087-d937-440a-8f68-df1a562fce38",
   "metadata": {},
   "outputs": [],
   "source": [
    "#$$\\begin{bmatrix} 1 & 2 & 1 \\\\ 3 & 0 & 1 \\\\ 0 & 2 & 4 \\end{bmatrix}$$\n",
    "#importing libraries\n",
    "from gekko import GEKKO\n",
    "import numpy as np"
   ]
  },
  {
   "cell_type": "code",
   "execution_count": 2,
   "id": "68de506e-6e3a-4f9f-977f-b2ac61dfd6ee",
   "metadata": {},
   "outputs": [],
   "source": [
    "m=GEKKO(remote=False) #dont want to run on server"
   ]
  },
  {
   "cell_type": "code",
   "execution_count": 3,
   "id": "f67d04c7-9c9f-4825-9f89-afccbdd54455",
   "metadata": {},
   "outputs": [],
   "source": [
    "#time steps\n",
    "nt=101\n",
    "m.time=np.linspace(0,1,nt) #defining the time step"
   ]
  },
  {
   "cell_type": "code",
   "execution_count": 4,
   "id": "4657a300-cafe-4135-9a26-7eab68a89f4c",
   "metadata": {},
   "outputs": [],
   "source": [
    "#declaring variables\n",
    "x1=m.Var(value=1)\n",
    "x2=m.Var(value=0)\n",
    "u=m.Var(value=-0.75)\n",
    "\n"
   ]
  },
  {
   "cell_type": "code",
   "execution_count": 5,
   "id": "f1f95688-c79f-43d2-b918-2fcc27687d7b",
   "metadata": {},
   "outputs": [],
   "source": [
    "#creating a dummy parameters. this is to ensure only the final value is optimized\n",
    "p=np.zeros(nt)\n",
    "p[-1]=1.0\n",
    "final=m.Param(value=p)"
   ]
  },
  {
   "cell_type": "code",
   "execution_count": 6,
   "id": "4faa9c59-56bc-4319-a0c8-e50a396f8b05",
   "metadata": {},
   "outputs": [
    {
     "name": "stdout",
     "output_type": "stream",
     "text": [
      " ----------------------------------------------------------------\n",
      " APMonitor, Version 1.0.0\n",
      " APMonitor Optimization Suite\n",
      " ----------------------------------------------------------------\n",
      " \n",
      " \n",
      " --------- APM Model Size ------------\n",
      " Each time step contains\n",
      "   Objects      :  0\n",
      "   Constants    :  0\n",
      "   Variables    :  4\n",
      "   Intermediates:  0\n",
      "   Connections  :  0\n",
      "   Equations    :  3\n",
      "   Residuals    :  3\n",
      " \n",
      " Number of state variables:    500\n",
      " Number of total equations: -  400\n",
      " Number of slack variables: -  0\n",
      " ---------------------------------------\n",
      " Degrees of freedom       :    100\n",
      " \n",
      " **********************************************\n",
      " Dynamic Control with Interior Point Solver\n",
      " **********************************************\n",
      "  \n",
      "  \n",
      " Info: Exact Hessian\n",
      "\n",
      "******************************************************************************\n",
      "This program contains Ipopt, a library for large-scale nonlinear optimization.\n",
      " Ipopt is released as open source code under the Eclipse Public License (EPL).\n",
      "         For more information visit http://projects.coin-or.org/Ipopt\n",
      "******************************************************************************\n",
      "\n",
      "This is Ipopt version 3.10.2, running with linear solver mumps.\n",
      "\n",
      "Number of nonzeros in equality constraint Jacobian...:     1098\n",
      "Number of nonzeros in inequality constraint Jacobian.:        0\n",
      "Number of nonzeros in Lagrangian Hessian.............:      200\n",
      "\n",
      "Total number of variables............................:      500\n",
      "                     variables with only lower bounds:        0\n",
      "                variables with lower and upper bounds:        0\n",
      "                     variables with only upper bounds:        0\n",
      "Total number of equality constraints.................:      400\n",
      "Total number of inequality constraints...............:        0\n",
      "        inequality constraints with only lower bounds:        0\n",
      "   inequality constraints with lower and upper bounds:        0\n",
      "        inequality constraints with only upper bounds:        0\n",
      "\n",
      "iter    objective    inf_pr   inf_du lg(mu)  ||d||  lg(rg) alpha_du alpha_pr  ls\n",
      "   0 -1.0000000e+000 1.56e+000 4.87e-003   0.0 0.00e+000    -  0.00e+000 0.00e+000   0\n",
      "   1 -6.4262350e-001 1.33e+000 7.67e-003 -11.0 1.66e+000    -  1.00e+000 1.00e+000h  1\n",
      "   2 -2.7269248e-001 1.55e-001 2.22e-016 -11.0 9.05e-001    -  1.00e+000 1.00e+000h  1\n",
      "   3 -2.4130615e-001 2.22e-016 2.22e-016 -11.0 1.55e-001    -  1.00e+000 1.00e+000h  1\n",
      "\n",
      "Number of Iterations....: 3\n",
      "\n",
      "                                   (scaled)                 (unscaled)\n",
      "Objective...............: -2.4130615489184160e-001  -2.4130615489184160e-001\n",
      "Dual infeasibility......:  2.2204460492503131e-016   2.2204460492503131e-016\n",
      "Constraint violation....:  2.2204460492503131e-016   2.2204460492503131e-016\n",
      "Complementarity.........:  0.0000000000000000e+000   0.0000000000000000e+000\n",
      "Overall NLP error.......:  2.2204460492503131e-016   2.2204460492503131e-016\n",
      "\n",
      "\n",
      "Number of objective function evaluations             = 4\n",
      "Number of objective gradient evaluations             = 4\n",
      "Number of equality constraint evaluations            = 4\n",
      "Number of inequality constraint evaluations          = 0\n",
      "Number of equality constraint Jacobian evaluations   = 4\n",
      "Number of inequality constraint Jacobian evaluations = 0\n",
      "Number of Lagrangian Hessian evaluations             = 3\n",
      "Total CPU secs in IPOPT (w/o function evaluations)   =      0.015\n",
      "Total CPU secs in NLP function evaluations           =      0.027\n",
      "\n",
      "EXIT: Optimal Solution Found.\n",
      "\n",
      " The solution was found.\n",
      "\n",
      " The final value of the objective function is  -0.2413061548918416\n",
      " \n",
      " ---------------------------------------------------\n",
      " Solver         :  IPOPT (v3.12)\n",
      " Solution time  :  0.04870000000000001 sec\n",
      " Objective      :  -0.2413061548918416\n",
      " Successful solution\n",
      " ---------------------------------------------------\n",
      " \n",
      "\n"
     ]
    }
   ],
   "source": [
    "#   defining objective functions and constraints\n",
    "m.Equation(x1.dt()==u)\n",
    "m.Equation(x2.dt()==x1**2+u**2)\n",
    "m.Obj((x2-1)*final)   #applying dummy so that only the final value is optimized\n",
    "\n",
    "m.options.IMODE=6 # calling the dynamic optimization solver\n",
    "\n",
    "#solve\n",
    "m.solve()"
   ]
  },
  {
   "cell_type": "code",
   "execution_count": null,
   "id": "c4f85213-26ec-467a-8ab5-112959fb6f62",
   "metadata": {},
   "outputs": [],
   "source": []
  },
  {
   "cell_type": "code",
   "execution_count": null,
   "id": "2f7b8499-4ecc-4bad-be0b-7c5ec360d216",
   "metadata": {},
   "outputs": [],
   "source": []
  }
 ],
 "metadata": {
  "kernelspec": {
   "display_name": "Python 3",
   "language": "python",
   "name": "python3"
  },
  "language_info": {
   "codemirror_mode": {
    "name": "ipython",
    "version": 3
   },
   "file_extension": ".py",
   "mimetype": "text/x-python",
   "name": "python",
   "nbconvert_exporter": "python",
   "pygments_lexer": "ipython3",
   "version": "3.8.8"
  }
 },
 "nbformat": 4,
 "nbformat_minor": 5
}
